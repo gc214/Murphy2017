{
 "cells": [
  {
   "cell_type": "markdown",
   "metadata": {},
   "source": [
    "This notebook provides access to all data and functions required to reproduce the figures in the manuscript, \"Restriction of dietary protein leads to conditioned protein preference and elevated palatability of protein-containing food in rats\" by Murphy et al submitted on 26 October 2017.\n",
    "\n",
    "To run the code the following are required: <br>\n",
    "(1) Med Associates data files<br>\n",
    "(2) Metafiles for behavioural data (cas9_metafile.txt) and body weight (cas9bw_metafile.txt)<br>\n",
    "\n",
    "These files are contained in a .zip file as supplementary material attached to the manuscript or can be downloaded from <a href=\"http://http://www.mccutcheonlab.com/\">www.mccutcheonlab.com</a>.\n",
    "\n",
    "The code was prepared in Python 3.6 and most libraries should be included in a standard installation (e.g. via Anaconda). The exception is the statistics which require R and associated R-to-Python modules to be installed. To toggle statistics on and off change the variable <b><i>statson</i></b> which is assigned below. This variable is set to False by default so that code blocks that perform statistics will not run.\n",
    "\n",
    "Any queries should be addressed to Dr James McCutcheon (jem64@le.ac.uk).\n"
   ]
  },
  {
   "cell_type": "code",
   "execution_count": 1,
   "metadata": {
    "collapsed": true
   },
   "outputs": [],
   "source": [
    "# Import required packages\n",
    "\n",
    "%matplotlib inline\n",
    "\n",
    "import numpy as np\n",
    "import matplotlib.pyplot as plt\n",
    "from itertools import chain\n",
    "import timeit\n",
    "import random\n",
    "from matplotlib.backends.backend_pdf import PdfPages\n",
    "import matplotlib.gridspec as gridspec\n",
    "import matplotlib as mpl\n",
    "import os\n",
    "import pandas as pd\n",
    "from scipy import stats"
   ]
  },
  {
   "cell_type": "code",
   "execution_count": 2,
   "metadata": {},
   "outputs": [
    {
     "name": "stdout",
     "output_type": "stream",
     "text": [
      "C:\\Users\\James Rig\\Dropbox\\Publications in Progress\\Murphy_protein\\Murphy_code\n"
     ]
    }
   ],
   "source": [
    "cwd = os.getcwd()\n",
    "print(cwd)"
   ]
  },
  {
   "cell_type": "code",
   "execution_count": 3,
   "metadata": {
    "collapsed": true
   },
   "outputs": [],
   "source": [
    "# Uncomment these imports for R statistics\n",
    "statson = False\n",
    "if statson == True:\n",
    "    import rpy2.robjects as ro\n",
    "    from rpy2.robjects import r, pandas2ri, numpy2ri\n",
    "    pandas2ri.activate()\n",
    "    numpy2ri.activate()"
   ]
  },
  {
   "cell_type": "markdown",
   "metadata": {},
   "source": [
    "## Classes"
   ]
  },
  {
   "cell_type": "code",
   "execution_count": 4,
   "metadata": {
    "collapsed": true
   },
   "outputs": [],
   "source": [
    "class Rat(object):\n",
    "    \n",
    "    nRats = 0\n",
    "    nSessions = 0\n",
    "    \n",
    "    def __init__(self, data):      \n",
    "        self.rat = data\n",
    "        self.sessions = {}\n",
    "        \n",
    "        Rat.nRats += 1\n",
    "                \n",
    "    def loadsession(self, data, header):\n",
    "        self.session = 's'+str(data[2]) #should reference column of data with session number\n",
    "        self.sessions[self.session] = Session(data, header, self.rat, self.session)\n",
    "       \n",
    "        Rat.nSessions += 1"
   ]
  },
  {
   "cell_type": "code",
   "execution_count": 5,
   "metadata": {
    "collapsed": true
   },
   "outputs": [],
   "source": [
    "class Session(object):\n",
    "    \n",
    "    def __init__(self, data, header, rat, session):\n",
    "        self.hrow = {}\n",
    "        for idx, col in enumerate(header):\n",
    "            self.hrow[col] = data[idx]\n",
    "        self.medfile = datafolder + self.hrow['medfile']\n",
    "        self.sessioncode = self.hrow['sessioncode']\n",
    "        self.rat = str(rat)\n",
    "        self.session = session\n",
    "        self.bottleA = self.hrow['bottleA']\n",
    "        self.bottleB = self.hrow['bottleB']\n",
    "        \n",
    "        if hasattr(rats[self.rat], 'diet'):\n",
    "            if rats[self.rat].diet != self.hrow['diet']:\n",
    "                print('Wrong diet for rat, must be a mistake in metafile')\n",
    "        else:\n",
    "            rats[self.rat].diet = self.hrow['diet']\n",
    "                    \n",
    "    def extractlicks(self, substance):\n",
    "        licks = medfilereader(self.medfile,\n",
    "                                  varsToExtract = sub2var(self, substance),\n",
    "                                                    remove_var_header = True)\n",
    "        lickData = lickCalc(licks, burstThreshold=0.5, binsize=120)        \n",
    "        \n",
    "        return lickData\n",
    "\n",
    "    def designatesession(self):\n",
    "        if self.sessioncode == 'casein1':\n",
    "            if hasattr(rats[self.rat], 'casein1'):\n",
    "                print('Casein 1 data already added. Check metafile for duplication.')\n",
    "            else:\n",
    "                rats[self.rat].casein1 = self.lickData_cas\n",
    "                    \n",
    "        if self.sessioncode == 'casein2':\n",
    "            if hasattr(rats[self.rat], 'casein2'):\n",
    "                print('Casein 2 data already added. Check metafile for duplication.')\n",
    "            else:\n",
    "                rats[self.rat].casein2 = self.lickData_cas\n",
    "\n",
    "        if self.sessioncode == 'maltodextrin1':\n",
    "            if hasattr(rats[self.rat], 'maltodextrin1'):\n",
    "                print('Maltodextrin 1 data already added. Check metafile for duplication.')\n",
    "            else:\n",
    "                rats[self.rat].maltodextrin1 = self.lickData_malt\n",
    "                    \n",
    "        if self.sessioncode == 'maltodextrin2':\n",
    "            if hasattr(rats[self.rat], 'maltodextrin2'):\n",
    "                print('Maltodextrin 2 data already added. Check metafile for duplication.')\n",
    "            else:\n",
    "                rats[self.rat].maltodextrin2 = self.lickData_malt\n",
    "                    \n",
    "        if self.sessioncode == 'preference1':\n",
    "            if hasattr(rats[self.rat], 'preference1-cas'):\n",
    "                print('Preference 1 data already added. Check metafile for duplication.')\n",
    "            else:\n",
    "                rats[self.rat].preference1_cas = self.lickData_cas\n",
    "                rats[self.rat].preference1_malt = self.lickData_malt"
   ]
  },
  {
   "cell_type": "markdown",
   "metadata": {},
   "source": [
    "# Functions"
   ]
  },
  {
   "cell_type": "markdown",
   "metadata": {},
   "source": [
    "## barscatter \n",
    "\n",
    "    This function creates bar+scatter plots when passed a 1 or 2 dimensional\n",
    "    array. Expects numpy array objects only\n",
    "    Optional parameters for colours, paired/unpaired plotting etc."
   ]
  },
  {
   "cell_type": "code",
   "execution_count": 6,
   "metadata": {
    "collapsed": true
   },
   "outputs": [],
   "source": [
    "def barscatter(data, transpose = False,\n",
    "                groupwidth = .75,\n",
    "                barwidth = .9,\n",
    "                paired = False,\n",
    "                barfacecoloroption = 'same', # other options 'between' or 'individual'\n",
    "                barfacecolor = ['white'],\n",
    "                baredgecoloroption = 'same',\n",
    "                baredgecolor = ['black'],\n",
    "                baralpha = 1,\n",
    "                scatterfacecoloroption = 'same',\n",
    "                scatterfacecolor = ['white'],\n",
    "                scatteredgecoloroption = 'same',\n",
    "                scatteredgecolor = ['grey'],\n",
    "                scatterlinecolor = 'grey', # Don't put this value in a list\n",
    "                scattersize = 80,\n",
    "                scatteralpha = 1,\n",
    "                linewidth=1,\n",
    "                ylabel = 'none',\n",
    "                xlabel = 'none',\n",
    "                grouplabel = 'auto',\n",
    "                itemlabel = 'none',\n",
    "                yaxisparams = 'auto',\n",
    "                show_legend = 'none',\n",
    "                legendloc='upper right',\n",
    "                ax=[]):\n",
    "#\n",
    "#    if type(data) == float\n",
    "    # Check if transpose = True\n",
    "    if transpose == True:\n",
    "        data = np.transpose(data)\n",
    "        \n",
    "    # Initialize arrays and calculate number of groups, bars, items, and means\n",
    "    \n",
    "    barMeans = np.zeros((np.shape(data)))\n",
    "    items = np.zeros((np.shape(data)))\n",
    "    \n",
    "    nGroups = np.shape(data)[0]\n",
    "    groupx = np.arange(1,nGroups+1)\n",
    "\n",
    "    if len(np.shape(data)) > 1:\n",
    "        grouped = True\n",
    "        barspergroup = np.shape(data)[1]\n",
    "        barwidth = (barwidth * groupwidth) / barspergroup\n",
    "        \n",
    "        for i in range(np.shape(data)[0]):\n",
    "            for j in range(np.shape(data)[1]):\n",
    "                barMeans[i][j] = np.mean(data[i][j])\n",
    "                items[i][j] = len(data[i][j])\n",
    "        \n",
    "    else:\n",
    "        grouped = False\n",
    "        paired = False\n",
    "        barspergroup = 1\n",
    "        \n",
    "        for i in range(np.shape(data)[0]):\n",
    "            barMeans[i] = np.mean(data[i])\n",
    "            items[i] = len(data[i])\n",
    "    \n",
    "    # Calculate x values for bars and scatters\n",
    "    \n",
    "    xvals = np.zeros((np.shape(data)))\n",
    "    barallocation = groupwidth / barspergroup\n",
    "    k = (groupwidth/2) - (barallocation/2)\n",
    "    \n",
    "    if grouped == True:\n",
    "        \n",
    "        for i in range(np.shape(data)[0]):\n",
    "            xrange = np.linspace(i+1-k, i+1+k, barspergroup)\n",
    "            for j in range(barspergroup):\n",
    "                xvals[i][j] = xrange[j]\n",
    "    else:\n",
    "        xvals = groupx\n",
    "    \n",
    "    # Set colors for bars and scatters\n",
    "     \n",
    "    barfacecolorArray = setcolors(barfacecoloroption, barfacecolor, barspergroup, nGroups, data)\n",
    "    baredgecolorArray = setcolors(baredgecoloroption, baredgecolor, barspergroup, nGroups, data)\n",
    "     \n",
    "    scfacecolorArray = setcolors(scatterfacecoloroption, scatterfacecolor, barspergroup, nGroups, data, paired_scatter = paired)\n",
    "    scedgecolorArray = setcolors(scatteredgecoloroption, scatteredgecolor, barspergroup, nGroups, data, paired_scatter = paired)\n",
    "    \n",
    "    # Initialize figure\n",
    "    if ax == []:\n",
    "        fig = plt.figure()\n",
    "        ax = fig.add_subplot(111)\n",
    "    \n",
    "    # Make bars\n",
    "    barlist = []\n",
    "    barx = []\n",
    "    for x, y, bfc, bec in zip(xvals.flatten(), barMeans.flatten(),\n",
    "                              barfacecolorArray, baredgecolorArray):\n",
    "        barx.append(x)\n",
    "        barlist.append(ax.bar(x, y, barwidth,\n",
    "                         facecolor = bfc, edgecolor = bec,\n",
    "                         zorder=-1))\n",
    "    \n",
    "    # Uncomment these lines to show method for changing bar colors outside of\n",
    "    # function using barlist properties\n",
    "    #for i in barlist[2].get_children():\n",
    "    #    i.set_color('r')\n",
    "    \n",
    "    # Make scatters\n",
    "    sclist = []\n",
    "    if paired == False:\n",
    "        for x, Yarray, scf, sce  in zip(xvals.flatten(), data.flatten(),\n",
    "                                        scfacecolorArray, scedgecolorArray):\n",
    "            for y in Yarray:\n",
    "                sclist.append(ax.scatter(x, y, s = scattersize,\n",
    "                         c = scf,\n",
    "                         edgecolors = sce,\n",
    "                         zorder=1))\n",
    "    else:\n",
    "        for x, Yarray, scf, sce in zip(xvals, data, scfacecolorArray, scedgecolorArray):\n",
    "            for y in np.transpose(Yarray.tolist()):\n",
    "                sclist.append(ax.plot(x, y, '-o', markersize = scattersize/10,\n",
    "                         color = scatterlinecolor,\n",
    "                         linewidth=linewidth,\n",
    "                         markerfacecolor = scf,\n",
    "                         markeredgecolor = sce))\n",
    "    \n",
    "    # Label axes\n",
    "    if ylabel != 'none':\n",
    "        plt.ylabel(ylabel)\n",
    "    \n",
    "    if xlabel != 'none':\n",
    "        plt.xlabel(xlabel)\n",
    "    \n",
    "    # Set range and tick values for Y axis\n",
    "    if yaxisparams != 'auto':\n",
    "        ax.set_ylim(yaxisparams[0])\n",
    "        plt.yticks(yaxisparams[1])\n",
    "       \n",
    "    # X ticks\n",
    "    plt.tick_params(\n",
    "        axis='x',          # changes apply to the x-axis\n",
    "        which='both',      # both major and minor ticks are affected\n",
    "        bottom='off',      # ticks along the bottom edge are off\n",
    "        top='off') # labels along the bottom edge are off\n",
    "    \n",
    "    if grouplabel == 'auto':\n",
    "        plt.tick_params(labelbottom='off')\n",
    "    else:\n",
    "        plt.xticks(range(1,nGroups+1), grouplabel)\n",
    "    \n",
    "    # Hide the right and top spines and set bottom to zero\n",
    "    ax.spines['right'].set_visible(False)\n",
    "    ax.spines['top'].set_visible(False)\n",
    "    ax.spines['bottom'].set_position('zero')\n",
    "    \n",
    "    if show_legend == 'within':\n",
    "        if len(itemlabel) != barspergroup:\n",
    "            print('Not enough item labels for legend!')\n",
    "        else:\n",
    "            legendbar = []\n",
    "            legendtext = []\n",
    "            for i in range(barspergroup):\n",
    "                legendbar.append(barlist[i])\n",
    "                legendtext.append(itemlabel[i])\n",
    "            plt.legend(legendbar, legendtext, loc=legendloc)\n",
    "    \n",
    "    return ax, barx, barlist, sclist"
   ]
  },
  {
   "cell_type": "code",
   "execution_count": 7,
   "metadata": {
    "collapsed": true
   },
   "outputs": [],
   "source": [
    "def setcolors(coloroption, colors, barspergroup, nGroups, data, paired_scatter = False):\n",
    "            \n",
    "    nColors = len(colors)\n",
    "    \n",
    "    if (paired_scatter == True) & (coloroption == 'within'):\n",
    "        print('Not possible to make a Paired scatter plot with Within setting.')\n",
    "        coloroption = 'same'\n",
    "        \n",
    "    if coloroption == 'within':\n",
    "        if nColors < barspergroup:\n",
    "            print('Not enough colors for this option! Reverting to one color.')\n",
    "            coloroption = 'same'\n",
    "        elif nColors > barspergroup:\n",
    "            colors = colors[:barspergroup]\n",
    "        coloroutput = [colors for i in data]\n",
    "        coloroutput = list(chain(*coloroutput))\n",
    "        \n",
    "    if coloroption == 'between':\n",
    "        if nColors < nGroups:\n",
    "            print('Not enough colors for this option! Reverting to one color.')\n",
    "            coloroption = 'same'\n",
    "        elif nColors > nGroups:\n",
    "            colors = colors[:nGroups]\n",
    "        if paired_scatter == False:\n",
    "            coloroutput = [[c]*barspergroup for c in colors]\n",
    "            coloroutput = list(chain(*coloroutput))\n",
    "        else:\n",
    "            coloroutput = colors\n",
    "            \n",
    "    if coloroption == 'individual':\n",
    "        if nColors < nGroups*barspergroup:\n",
    "            print('Not enough colors for this color option')\n",
    "            coloroption = 'same'\n",
    "        elif nColors > nGroups*barspergroup:\n",
    "            coloroutput = colors[:nGroups*barspergroup]\n",
    "        else: \n",
    "            coloroutput = colors\n",
    "    \n",
    "    if coloroption == 'same':\n",
    "        coloroutput = [colors[0] for x in range(len(data.flatten()))]\n",
    "\n",
    "    return coloroutput"
   ]
  },
  {
   "cell_type": "code",
   "execution_count": 8,
   "metadata": {
    "collapsed": true
   },
   "outputs": [],
   "source": [
    "def isnumeric(s):\n",
    "    try:\n",
    "        x = float(s)\n",
    "        return x\n",
    "    except ValueError:\n",
    "        return float('nan')"
   ]
  },
  {
   "cell_type": "markdown",
   "metadata": {},
   "source": [
    "## medfilereader\n",
    "    Args:\n",
    "        filename: filename including path must be type str\n",
    "        sesisonToExtract: default=1, takes number if file contians multiple sessions\n",
    "        varsToExtract: default= 'all' expects string variable names \n",
    "        verbose: default=False\n",
    "        remove_var_header: default=False, removes first value in array\n",
    "\n",
    "    Returns:\n",
    "        varsToReturn: array of variables extracted from medassociates file"
   ]
  },
  {
   "cell_type": "code",
   "execution_count": 9,
   "metadata": {
    "collapsed": true
   },
   "outputs": [],
   "source": [
    "def medfilereader(filename, varsToExtract = 'all',\n",
    "                  sessionToExtract = 1,\n",
    "                  verbose = False,\n",
    "                  remove_var_header = False):\n",
    "    if varsToExtract == 'all':\n",
    "        numVarsToExtract = np.arange(0,26)\n",
    "    else:\n",
    "        numVarsToExtract = [ord(x)-97 for x in varsToExtract]\n",
    "    \n",
    "    f = open(filename, 'r')\n",
    "    f.seek(0)\n",
    "    filerows = f.readlines()[8:]\n",
    "    datarows = [isnumeric(x) for x in filerows]\n",
    "    matches = [i for i,x in enumerate(datarows) if x == 0.3]\n",
    "    if sessionToExtract > len(matches):\n",
    "        print('Session ' + str(sessionToExtract) + ' does not exist.')\n",
    "    if verbose == True:\n",
    "        print('There are ' + str(len(matches)) + ' sessions in ' + filename)\n",
    "        print('Analyzing session ' + str(sessionToExtract))\n",
    "    \n",
    "    varstart = matches[sessionToExtract - 1]\n",
    "    medvars = [[] for n in range(26)]\n",
    "    \n",
    "    k = int(varstart + 27)\n",
    "    for i in range(26):\n",
    "        medvarsN = int(datarows[varstart + i + 1])\n",
    "        \n",
    "        medvars[i] = datarows[k:k + int(medvarsN)]\n",
    "        k = k + medvarsN\n",
    "        \n",
    "    if remove_var_header == True:\n",
    "        varsToReturn = [medvars[i][1:] for i in numVarsToExtract]\n",
    "    else:\n",
    "        varsToReturn = [medvars[i] for i in numVarsToExtract]\n",
    "\n",
    "    if np.shape(varsToReturn)[0] == 1:\n",
    "        varsToReturn = varsToReturn[0]\n",
    "    return varsToReturn"
   ]
  },
  {
   "cell_type": "code",
   "execution_count": 10,
   "metadata": {
    "collapsed": true
   },
   "outputs": [],
   "source": [
    "def metafilereader(filename):\n",
    "    \n",
    "    f = open(filename, 'r')\n",
    "    f.seek(0)\n",
    "    header = f.readlines()[0]\n",
    "    f.seek(0)\n",
    "    filerows = f.readlines()[1:]\n",
    "    \n",
    "    tablerows = []\n",
    "    \n",
    "    for i in filerows:\n",
    "        tablerows.append(i.split('\\t'))\n",
    "        \n",
    "    header = header.split('\\t')\n",
    "   \n",
    "    return tablerows, header"
   ]
  },
  {
   "cell_type": "markdown",
   "metadata": {},
   "source": [
    "## lickCalc\n",
    "    Args:\n",
    "        licks: licks extracted from medfile, expects list \n",
    "        offset: default = []\n",
    "        burstThreshold: chosen interlick interval to define bursts\n",
    "        runThreshold: chosen time before a run of licks to define the beginning of runs\n",
    "        binsize: default=60\n",
    "        histDensity: default=False\n",
    "\n",
    "    Returns:\n",
    "        lickData: dictionary of lick data, including burst onsets and offsets"
   ]
  },
  {
   "cell_type": "code",
   "execution_count": 11,
   "metadata": {
    "collapsed": true
   },
   "outputs": [],
   "source": [
    "def lickCalc(licks, offset = [], burstThreshold = 0.25, runThreshold = 10, \n",
    "             binsize=60, histDensity = False):\n",
    "    # makes dictionary of data relating to licks and bursts\n",
    "    if type(licks) != np.ndarray or type(offset) != np.ndarray:\n",
    "        try:\n",
    "            licks = np.array(licks)\n",
    "            offset = np.array(offset)\n",
    "        except:\n",
    "            print('Licks and offsets need to be arrays and unable to easily convert.')\n",
    "            return\n",
    "\n",
    "    lickData = {}\n",
    "    \n",
    "    if len(offset) > 0:\n",
    "        lickData['licklength'] = offset - licks\n",
    "        lickData['longlicks'] = [x for x in lickData['licklength'] if x > 0.3]\n",
    "    else:\n",
    "        lickData['licklength'] = []\n",
    "        lickData['longlicks'] = []\n",
    "\n",
    "    lickData['licks'] = np.concatenate([[0], licks])\n",
    "    lickData['ilis'] = np.diff(lickData['licks'])\n",
    "    lickData['freq'] = 1/np.mean([x for x in lickData['ilis'] if x < burstThreshold])\n",
    "    lickData['total'] = len(licks)\n",
    "    \n",
    "    # Calculates start, end, number of licks and time for each BURST \n",
    "    lickData['bStart'] = [val for i, val in enumerate(lickData['licks']) if (val - lickData['licks'][i-1] > burstThreshold)]  \n",
    "    lickData['bInd'] = [i for i, val in enumerate(lickData['licks']) if (val - lickData['licks'][i-1] > burstThreshold)]\n",
    "    lickData['bEnd'] = [lickData['licks'][i-1] for i in lickData['bInd'][1:]]\n",
    "    lickData['bEnd'].append(lickData['licks'][-1])\n",
    "\n",
    "    lickData['bLicks'] = np.diff(lickData['bInd'] + [len(lickData['licks'])])    \n",
    "    lickData['bTime'] = np.subtract(lickData['bEnd'], lickData['bStart'])\n",
    "    lickData['bNum'] = len(lickData['bStart'])\n",
    "    if lickData['bNum'] > 0:\n",
    "        lickData['bMean'] = np.nanmean(lickData['bLicks'])\n",
    "    else:\n",
    "        lickData['bMean'] = 0\n",
    "    \n",
    "    lickData['bILIs'] = [x for x in lickData['ilis'] if x > burstThreshold]\n",
    "\n",
    "    # Calculates start, end, number of licks and time for each RUN\n",
    "    lickData['rStart'] = [val for i, val in enumerate(lickData['licks']) if (val - lickData['licks'][i-1] > runThreshold)]  \n",
    "    lickData['rInd'] = [i for i, val in enumerate(lickData['licks']) if (val - lickData['licks'][i-1] > runThreshold)]\n",
    "    lickData['rEnd'] = [lickData['licks'][i-1] for i in lickData['rInd'][1:]]\n",
    "    lickData['rEnd'].append(lickData['licks'][-1])\n",
    "\n",
    "    lickData['rLicks'] = np.diff(lickData['rInd'] + [len(lickData['licks'])])    \n",
    "    lickData['rTime'] = np.subtract(lickData['rEnd'], lickData['rStart'])\n",
    "    lickData['rNum'] = len(lickData['rStart'])\n",
    "\n",
    "    lickData['rILIs'] = [x for x in lickData['ilis'] if x > runThreshold]\n",
    "    \n",
    "    lickData['hist'] = np.histogram(lickData['licks'][1:], \n",
    "                                    range=(0, 3600), bins=(int(3600/binsize)),\n",
    "                                          density=histDensity)[0]\n",
    "\n",
    "    return lickData"
   ]
  },
  {
   "cell_type": "code",
   "execution_count": 12,
   "metadata": {
    "collapsed": true
   },
   "outputs": [],
   "source": [
    "def sub2var(session, substance):\n",
    "    varsOut = []\n",
    "    if session.bottleA == substance:\n",
    "        varsOut.append('b')\n",
    "    if session.bottleB == substance:\n",
    "        varsOut.append('d')\n",
    "    return varsOut"
   ]
  },
  {
   "cell_type": "code",
   "execution_count": 13,
   "metadata": {
    "collapsed": true
   },
   "outputs": [],
   "source": [
    "def data2obj1D(data):\n",
    "    obj = np.empty(len(data), dtype=np.object)\n",
    "    for i,x in enumerate(data):\n",
    "        obj[i] = np.array(x)  \n",
    "    return obj"
   ]
  },
  {
   "cell_type": "code",
   "execution_count": 14,
   "metadata": {
    "collapsed": true
   },
   "outputs": [],
   "source": [
    "def data2obj2D(data):\n",
    "    obj = np.empty((np.shape(data)[0], np.shape(data)[1]), dtype=np.object)\n",
    "    for i,x in enumerate(data):\n",
    "        for j,y in enumerate(x):\n",
    "            obj[i][j] = np.array(y)\n",
    "    return obj"
   ]
  },
  {
   "cell_type": "code",
   "execution_count": 15,
   "metadata": {
    "collapsed": true
   },
   "outputs": [],
   "source": [
    "def nplp2Dfig(df, key, ax):\n",
    "    dietmsk = df.diet == 'np'\n",
    "    casmsk = df.sol == 'c'\n",
    "    \n",
    "    a = [[df[key][dietmsk & casmsk], df[key][dietmsk & ~casmsk]],\n",
    "          [df[key][~dietmsk & casmsk], df[key][~dietmsk & ~casmsk]]]\n",
    "\n",
    "    x = data2obj2D(a)\n",
    "\n",
    "    ax, x, _, _ = barscatter(x, paired=True,\n",
    "                 barfacecoloroption = 'individual',\n",
    "                 barfacecolor = [col['np_cas'], col['np_malt'], col['lp_cas'], col['lp_malt']],\n",
    "                 scatteredgecolor = ['xkcd:charcoal'],\n",
    "                 scatterlinecolor = 'xkcd:charcoal',\n",
    "                 grouplabel=['NR', 'PR'],\n",
    "                 scattersize = 60,\n",
    "                 ax=ax)"
   ]
  },
  {
   "cell_type": "code",
   "execution_count": 16,
   "metadata": {
    "collapsed": true
   },
   "outputs": [],
   "source": [
    "def prefhistFig(ax1, ax2, df, factor):\n",
    "    casmsk = df.sol == 'c'\n",
    "    dietmsk = df.diet == 'np'\n",
    "\n",
    "    shadedError(ax1, df[factor][casmsk & dietmsk], linecolor='black')\n",
    "    ax1 = shadedError(ax1, df[factor][~casmsk & dietmsk], linecolor='xkcd:bluish grey')\n",
    "    ax1.set_xticks([0,10,20,30])\n",
    "    ax1.set_xticklabels(['0', '20', '40', '60'])\n",
    "    \n",
    "    shadedError(ax2, df[factor][casmsk & ~dietmsk], linecolor='xkcd:kelly green')\n",
    "    ax2 = shadedError(ax2, df[factor][~casmsk & ~dietmsk], linecolor='xkcd:light green')\n",
    "    ax2.set_xticks([0,10,20,30])\n",
    "    ax2.set_xticklabels(['0', '20', '40', '60'])"
   ]
  },
  {
   "cell_type": "code",
   "execution_count": 17,
   "metadata": {
    "collapsed": true
   },
   "outputs": [],
   "source": [
    "def shadedError(ax, yarray, linecolor='black', errorcolor = 'xkcd:silver'):\n",
    "    yarray = np.array(yarray)\n",
    "    y = np.mean(yarray)\n",
    "    yerror = np.std(yarray)/np.sqrt(len(yarray))\n",
    "    x = np.arange(0, len(y))\n",
    "    ax.plot(x, y, color=linecolor)\n",
    "    ax.fill_between(x, y-yerror, y+yerror, color=errorcolor, alpha=0.4)\n",
    "    \n",
    "    return ax"
   ]
  },
  {
   "cell_type": "code",
   "execution_count": 18,
   "metadata": {
    "collapsed": true
   },
   "outputs": [],
   "source": [
    "def casVmaltFig(ax, df):\n",
    "    # prepare data\n",
    "    casmsk = df.sol == 'c'\n",
    "    casdata = np.array(df['licks'][casmsk])\n",
    "    maltdata = np.array(df['licks'][~casmsk])\n",
    "    xydataAll = []\n",
    "    for cas, malt in zip(casdata, maltdata):\n",
    "        xydata = []\n",
    "        x = np.array([cas[1:], [1]*(len(cas)-1)])\n",
    "        y = np.array([malt[1:], [2]*(len(malt)-1)])\n",
    "        alllicks = np.concatenate((x,y),axis=1)\n",
    "        idx = np.argsort(alllicks[0])\n",
    "        sortedlicks = alllicks[:,idx]\n",
    "        xydata.append(np.cumsum(np.array(sortedlicks[1,:] == 1, dtype=int)))\n",
    "        xydata.append(np.cumsum(np.array(sortedlicks[1,:] != 1, dtype=int)))\n",
    "        xydataAll.append(xydata)\n",
    "    \n",
    "    dietmsk = (df.diet == 'np')\n",
    "    dietmsk = dietmsk[:24]\n",
    "    \n",
    "    # plot line of unity    \n",
    "    ax.plot([0, 5500], [0, 5500], '--', color='xkcd:silver', linewidth=0.5)\n",
    "    \n",
    "    npdata = [x for i,x in enumerate(xydataAll) if dietmsk[i]]\n",
    "    for x in npdata:\n",
    "        ax.plot(x[0], x[1], c='xkcd:silver', alpha=0.2, linewidth=0.5)\n",
    "        ax.scatter(x[0][-1], x[1][-1], c='none', edgecolors='xkcd:charcoal')\n",
    "    \n",
    "    lpdata = [x for i,x in enumerate(xydataAll) if not dietmsk[i]]\n",
    "    for x in lpdata:\n",
    "        ax.plot(x[0], x[1], c='xkcd:light green', alpha=0.2, linewidth=0.5)\n",
    "        ax.scatter(x[0][-1], x[1][-1], color='none', edgecolors='xkcd:kelly green')\n",
    "        \n",
    "    max_x = np.max([ax.get_xlim(), ax.get_ylim()])\n",
    "    ax.set_xlim([-300, max_x])\n",
    "    ax.set_ylim([-300, max_x])\n",
    "    \n",
    "    return xydataAll"
   ]
  },
  {
   "cell_type": "code",
   "execution_count": 19,
   "metadata": {
    "collapsed": true
   },
   "outputs": [],
   "source": [
    "def condhistFig(data, msk, color='grey', meancolor='black'):\n",
    "    plt.figure()\n",
    "    a = data[msk]\n",
    "    for i in a:\n",
    "        plt.plot(i, c=color, alpha=0.4)\n",
    "    \n",
    "    mean = np.mean(a)   \n",
    "    plt.plot(mean, c=meancolor, linewidth=2)\n",
    "    \n",
    "    return mean"
   ]
  },
  {
   "cell_type": "code",
   "execution_count": 20,
   "metadata": {
    "collapsed": true
   },
   "outputs": [],
   "source": [
    "def cond2Dfig(df1, df2, key, sol='casein', ax=[]):\n",
    "    dietmsk = df1.diet == 'np'\n",
    "   \n",
    "    a = [[df1[key][dietmsk], df2[key][dietmsk]],\n",
    "          [df1[key][~dietmsk], df2[key][~dietmsk]]]\n",
    "\n",
    "    x = data2obj2D(a)\n",
    "    \n",
    "    if sol == 'casein':\n",
    "        barfacecolor = [col['np_cas'], col['np_cas'], col['lp_cas'], col['lp_cas']]\n",
    "    else:\n",
    "        barfacecolor = [col['np_malt'], col['np_malt'], col['lp_malt'], col['lp_malt']]\n",
    "        \n",
    "    ax, x, _, _ = barscatter(x, paired=True,\n",
    "                 barfacecoloroption = 'individual',\n",
    "                 barfacecolor = barfacecolor,\n",
    "                 scatteredgecolor = ['xkcd:charcoal'],\n",
    "                 scatterlinecolor = 'xkcd:charcoal',\n",
    "                 grouplabel=['NR', 'PR'],\n",
    "                 scattersize = 60,\n",
    "                 ax=ax)"
   ]
  },
  {
   "cell_type": "code",
   "execution_count": 21,
   "metadata": {
    "collapsed": true
   },
   "outputs": [],
   "source": [
    "def condprefFig(cdata, mdata, key):\n",
    "    \n",
    "    fig, ax = plt.subplots(nrows=1, ncols=2, sharex=True, sharey=True, figsize=(6.4, 2.4))\n",
    "    \n",
    "    x = [1,2,3]\n",
    "    \n",
    "    colors=[]\n",
    "    colors.append(['xkcd:silver', 'white'])\n",
    "    colors.append(['xkcd:kelly green', 'xkcd:light green'])\n",
    "    \n",
    "    for diet, axis in zip(['np', 'lp'], [0, 1]):\n",
    "        msk = cdata[0].diet == diet\n",
    "        casMean = [x[key][msk].mean() for x in cdata]\n",
    "        casSEM = [x[key][msk].std()/np.sqrt(sum(msk)) for x in cdata]\n",
    "        \n",
    "        maltMean = [x[key][msk].mean() for x in mdata]\n",
    "        maltSEM = [x[key][msk].std()/np.sqrt(sum(msk)) for x in mdata]\n",
    "        \n",
    "        for avg, sem, cols in zip([casMean, maltMean], [casSEM, maltSEM], [0, 1]):\n",
    "            ax[axis].errorbar(x, avg, yerr=sem,\n",
    "                              marker='o',\n",
    "                              markersize='8',\n",
    "                              color='xkcd:charcoal',\n",
    "                              markerfacecolor=colors[axis][cols],\n",
    "                              markeredgecolor='xkcd:charcoal')\n",
    "#        ax[axis].errorbar(x, maltMean, yerr=maltSEM, marker='o', mec=colors[axis][1])\n",
    "        \n",
    "    ax[axis].set_xlim([0.5, 3.5])\n",
    "    ax[0].set_ylim([0, 60])\n",
    "    plt.xticks([1,2,3],['Cond. 1','Cond. 2','Pref.'])\n",
    "\n",
    "    return fig, ax"
   ]
  },
  {
   "cell_type": "markdown",
   "metadata": {},
   "source": [
    "## Sets plotting parameters and colour scheme "
   ]
  },
  {
   "cell_type": "code",
   "execution_count": 22,
   "metadata": {
    "collapsed": true
   },
   "outputs": [],
   "source": [
    "mpl.rcParams['figure.figsize'] = (3.2, 2.4)\n",
    "mpl.rcParams['figure.dpi'] = 100\n",
    "\n",
    "mpl.rcParams['font.size'] = 8.0\n",
    "mpl.rcParams['axes.labelsize'] = 'medium'\n",
    "mpl.rcParams['ytick.labelsize'] = 'small'\n",
    "\n",
    "mpl.rcParams['figure.subplot.left'] = 0.15\n",
    "mpl.rcParams['figure.subplot.bottom'] = 0.20\n",
    "\n",
    "mpl.rcParams['errorbar.capsize'] = 5\n",
    "\n",
    "mpl.rcParams['savefig.transparent'] = True\n",
    "\n",
    "mpl.rcParams['axes.spines.top']=False\n",
    "mpl.rcParams['axes.spines.right']=False"
   ]
  },
  {
   "cell_type": "code",
   "execution_count": 23,
   "metadata": {
    "collapsed": true
   },
   "outputs": [],
   "source": [
    "col={}\n",
    "col['np_cas'] = 'xkcd:silver'\n",
    "col['np_malt'] = 'white'\n",
    "col['lp_cas'] = 'xkcd:kelly green'\n",
    "col['lp_malt'] = 'xkcd:light green'"
   ]
  },
  {
   "cell_type": "markdown",
   "metadata": {},
   "source": [
    "# Assemble Data\n",
    "This section assembles all data for analysis using the metafile to index med data files "
   ]
  },
  {
   "cell_type": "code",
   "execution_count": 24,
   "metadata": {
    "collapsed": true
   },
   "outputs": [],
   "source": [
    "datafolder = cwd + '\\\\cas9_medfiles\\\\'"
   ]
  },
  {
   "cell_type": "code",
   "execution_count": 25,
   "metadata": {
    "collapsed": true
   },
   "outputs": [],
   "source": [
    "metafile = cwd + '\\\\CAS9_metafile.txt'\n",
    "\n",
    "metafileData, metafileHeader = metafilereader(metafile)\n",
    "\n",
    "exptsuffix = ''\n",
    "includecol = 10\n",
    "\n",
    "rats = {}"
   ]
  },
  {
   "cell_type": "markdown",
   "metadata": {},
   "source": [
    "## Uses metafile to index data files"
   ]
  },
  {
   "cell_type": "code",
   "execution_count": 26,
   "metadata": {
    "collapsed": true
   },
   "outputs": [],
   "source": [
    "for i in metafileData:\n",
    "    if int(i[includecol]) == 1:\n",
    "        rowrat = str(i[1])\n",
    "        if rowrat not in rats:\n",
    "            rats[rowrat] = Rat(rowrat)\n",
    "        rats[rowrat].loadsession(i, metafileHeader)"
   ]
  },
  {
   "cell_type": "code",
   "execution_count": 27,
   "metadata": {},
   "outputs": [
    {
     "name": "stderr",
     "output_type": "stream",
     "text": [
      "C:\\ProgramData\\Anaconda3\\lib\\site-packages\\numpy\\core\\_methods.py:59: RuntimeWarning: Mean of empty slice.\n",
      "  warnings.warn(\"Mean of empty slice.\", RuntimeWarning)\n",
      "C:\\ProgramData\\Anaconda3\\lib\\site-packages\\numpy\\core\\_methods.py:70: RuntimeWarning: invalid value encountered in double_scalars\n",
      "  ret = ret.dtype.type(ret / rcount)\n"
     ]
    }
   ],
   "source": [
    "## Assembles lickdata for rats and session from metafile\n",
    "for i in rats:\n",
    "    for j in rats[i].sessions:\n",
    "        # print('Analysing rat ' + i + ' in session ' + j)\n",
    "        x = rats[i].sessions[j]\n",
    "        \n",
    "        x.lickData_cas = x.extractlicks('casein')\n",
    "        x.lickData_malt = x.extractlicks('maltodextrin')\n",
    "        x.lickData_sacc = x.extractlicks('saccharin')\n",
    "        \n",
    "        x.designatesession()"
   ]
  },
  {
   "cell_type": "markdown",
   "metadata": {},
   "source": [
    "# Food intake and body weight analysis"
   ]
  },
  {
   "cell_type": "code",
   "execution_count": 28,
   "metadata": {},
   "outputs": [],
   "source": [
    "metafile = cwd + '\\\\CAS9bw_metafile.csv'"
   ]
  },
  {
   "cell_type": "markdown",
   "metadata": {},
   "source": [
    "### Figure 1A - Body weight"
   ]
  },
  {
   "cell_type": "code",
   "execution_count": 29,
   "metadata": {},
   "outputs": [],
   "source": [
    "data = pd.read_csv(metafile, index_col=['rat'])\n",
    "\n",
    "np_mean = data[data['diet'] == 'np'].mean()\n",
    "np_sem = data[data['diet'] == 'np'].std() / np.sqrt(len(data['diet'] == 'np'))\n",
    "\n",
    "lp_mean = data[data['diet'] == 'lp'].mean()\n",
    "lp_sem = data[data['diet'] == 'lp'].std() / np.sqrt(len(data['diet'] == 'lp'))"
   ]
  },
  {
   "cell_type": "code",
   "execution_count": 30,
   "metadata": {
    "scrolled": true
   },
   "outputs": [
    {
     "name": "stderr",
     "output_type": "stream",
     "text": [
      "C:\\ProgramData\\Anaconda3\\lib\\site-packages\\numpy\\ma\\core.py:4185: UserWarning: Warning: converting a masked element to nan.\n",
      "  warnings.warn(\"Warning: converting a masked element to nan.\")\n"
     ]
    },
    {
     "data": {
      "text/plain": [
       "<matplotlib.text.Text at 0xa517668>"
      ]
     },
     "execution_count": 30,
     "metadata": {},
     "output_type": "execute_result"
    },
    {
     "data": {
      "image/png": "[encoded data removed]",
      "text/plain": [
       "<matplotlib.figure.Figure at 0xa4e0128>"
      ]
     },
     "metadata": {},
     "output_type": "display_data"
    }
   ],
   "source": [
    "fig = plt.figure(figsize=(3.2,2.4))\n",
    "ax = plt.subplot(1,1,1)\n",
    "np_mean.plot(yerr=np_sem, color='xkcd:charcoal', marker='o', markerfacecolor='white')\n",
    "lp_mean.plot(yerr=lp_sem, color='xkcd:kelly green', marker='o', markerfacecolor='white')\n",
    "ax.set_ylim([400, 550])\n",
    "ax.set_xlim([-1, 17])\n",
    "plt.xticks([1,6,11,16], ('0', '5', '10', '15'))\n",
    "plt.yticks([400, 450, 500, 550])\n",
    "ax.set_ylabel('Body weight (g)')\n",
    "ax.set_xlabel('Days since diet switch')"
   ]
  },
  {
   "cell_type": "markdown",
   "metadata": {},
   "source": [
    "### Stats on body weight"
   ]
  },
  {
   "cell_type": "code",
   "execution_count": 31,
   "metadata": {},
   "outputs": [
    {
     "name": "stdout",
     "output_type": "stream",
     "text": [
      "\n",
      "\r\n",
      "Error: rat\n",
      "\r\n",
      "          Df  Sum Sq Mean Sq F value Pr(>F)\n",
      "\r\n",
      "diet       1    6852    6852   0.115  0.738\n",
      "\r\n",
      "Residuals 22 1314212   59737               \n",
      "\r\n",
      "\n",
      "\r\n",
      "Error: rat:day\n",
      "\r\n",
      "           Df Sum Sq Mean Sq F value Pr(>F)    \n",
      "\r\n",
      "day        16  28940  1808.7  17.371 <2e-16 ***\n",
      "\r\n",
      "day:diet   16    957    59.8   0.574  0.903    \n",
      "\r\n",
      "Residuals 352  36651   104.1                   \n",
      "\r\n",
      "---\n",
      "\r\n",
      "Signif. codes:  0 '***' 0.001 '**' 0.01 '*' 0.05 '.' 0.1 ' ' 1\n",
      "\n"
     ]
    }
   ],
   "source": [
    "if statson == True:\n",
    "    data = pd.read_csv(metafile, index_col=['rat', 'diet'])\n",
    "\n",
    "    data = data[:].stack()\n",
    "    data = data.to_frame()\n",
    "    data.reset_index(inplace=True) \n",
    "    data.columns = ['rat', 'diet', 'day', 'licks']\n",
    "    ro.globalenv['r_data'] = data\n",
    "\n",
    "    ro.r('bodyweight = aov(formula = licks ~ day * diet + Error(rat / day), data = r_data)')\n",
    "\n",
    "    print(ro.r('summary(bodyweight)'))"
   ]
  },
  {
   "cell_type": "markdown",
   "metadata": {},
   "source": [
    "### Figure 1B - Food intake"
   ]
  },
  {
   "cell_type": "code",
   "execution_count": 32,
   "metadata": {},
   "outputs": [
    {
     "data": {
      "text/plain": [
       "(0, 35)"
      ]
     },
     "execution_count": 32,
     "metadata": {},
     "output_type": "execute_result"
    },
    {
     "data": {
      "image/png": "[encoded data removed]",
      "text/plain": [
       "<matplotlib.figure.Figure at 0xa784160>"
      ]
     },
     "metadata": {},
     "output_type": "display_data"
    }
   ],
   "source": [
    "foodintake_np = [22.0, 25.6, 27.6, 26.1]\n",
    "foodintake_lp = [25.5, 27.3, 29.1, 28.5]\n",
    "\n",
    "foodintake_npAll = [22.0, 25.6, 27.6, 26.1, 22.9, 21.0, 21.3, 20.6]\n",
    "foodintake_lpAll = [25.5, 27.3, 29.1, 28.5, 27.4, 29.9, 23.5, 26.3]\n",
    "\n",
    "fi = data2obj1D([foodintake_np, foodintake_lp])\n",
    "#fi = np.array([foodintake_np, foodintake_lp],\n",
    "#         dtype='object')\n",
    "mpl.rcParams['figure.subplot.left'] = 0.25\n",
    "fig = plt.figure(figsize=(1.8,2.4))\n",
    "ax = plt.subplot(1,1,1)\n",
    "barscatter(fi, barfacecoloroption='individual',\n",
    "                 barwidth = 0.8,\n",
    "                 barfacecolor = ['xkcd:silver', 'xkcd:kelly green'],\n",
    "                 scatteredgecolor = ['xkcd:charcoal'],\n",
    "                 scattersize = 40,\n",
    "                 ylabel = 'Average food intake (g/day)',\n",
    "                 grouplabel=['NR', 'PR'],\n",
    "                 ax=ax)\n",
    "plt.yticks([0, 10, 20, 30])\n",
    "ax.set_xlim([0.25,2.75])\n",
    "ax.set_ylim([0, 35])"
   ]
  },
  {
   "cell_type": "code",
   "execution_count": 33,
   "metadata": {
    "scrolled": true
   },
   "outputs": [
    {
     "data": {
      "text/plain": [
       "(0, 35)"
      ]
     },
     "execution_count": 33,
     "metadata": {},
     "output_type": "execute_result"
    },
    {
     "data": {
      "image/png": "[encoded data removed]",
      "text/plain": [
       "<matplotlib.figure.Figure at 0xa4e0dd8>"
      ]
     },
     "metadata": {},
     "output_type": "display_data"
    }
   ],
   "source": [
    "fi = data2obj1D([foodintake_npAll, foodintake_lpAll])\n",
    "fig = plt.figure(figsize=(1.8,2.4))\n",
    "ax = plt.subplot(1,1,1)\n",
    "barscatter(fi, barfacecoloroption='individual',\n",
    "                 barwidth = 0.8,\n",
    "                 barfacecolor = ['xkcd:silver', 'xkcd:kelly green'],\n",
    "                 scatteredgecolor = ['xkcd:charcoal'],\n",
    "                 scattersize = 40,\n",
    "                 grouplabel=['NR', 'PR'],\n",
    "                 ax=ax)\n",
    "plt.yticks([0, 10, 20, 30])\n",
    "ax.set_xlim([0.25,2.75])\n",
    "ax.set_ylim([0, 35])"
   ]
  },
  {
   "cell_type": "markdown",
   "metadata": {},
   "source": [
    "### Stats on food intake"
   ]
  },
  {
   "cell_type": "code",
   "execution_count": 34,
   "metadata": {},
   "outputs": [
    {
     "name": "stdout",
     "output_type": "stream",
     "text": [
      "Ttest_indResult(statistic=-3.1789604210461313, pvalue=0.0066948685876515772)\n"
     ]
    }
   ],
   "source": [
    "if statson == True:\n",
    "    mpl.rcParams['figure.subplot.left'] = 0.15\n",
    "    fi_stats = stats.ttest_ind(foodintake_npAll, foodintake_lpAll)\n",
    "    print(fi_stats)"
   ]
  },
  {
   "cell_type": "markdown",
   "metadata": {},
   "source": [
    "## Assemble conditioning data"
   ]
  },
  {
   "cell_type": "code",
   "execution_count": 35,
   "metadata": {
    "collapsed": true
   },
   "outputs": [],
   "source": [
    "dfc1 = pd.DataFrame([(rats[x].casein1) for x in rats])\n",
    "dfc2 = pd.DataFrame([(rats[x].casein2) for x in rats])\n",
    "dfm1 = pd.DataFrame([(rats[x].maltodextrin1) for x in rats])\n",
    "dfm2 = pd.DataFrame([(rats[x].maltodextrin2) for x in rats])\n",
    "\n",
    "for df in [dfc1, dfc2, dfm1, dfm2]:\n",
    "    df.insert(0,'ratid', [x for x in rats])\n",
    "    df.insert(1,'diet', [rats[x].diet for x in rats])\n",
    "\n",
    "df = pd.concat([dfc1, dfc2, dfm1, dfm2])\n",
    "\n",
    "df.insert(2,'sol',['c']*48 + ['m']*48)\n",
    "df.insert(3,'day',['c1']*24 + ['c2']*24 + ['m1']*24 + ['m2']*24)\n",
    "\n",
    "df2 = df[['ratid', 'diet']][:48]\n",
    "casall = df[df['day'] == 'c1']['total'] + df[df['day'] == 'c2']['total']\n",
    "maltall = df[df['day'] == 'm1']['total'] + df[df['day'] == 'm2']['total']\n",
    "\n",
    "df2.insert(2,'sol',['c']*24 + ['m']*24)\n",
    "df2.insert(3,'total', casall.append(maltall))"
   ]
  },
  {
   "cell_type": "markdown",
   "metadata": {},
   "source": [
    "### Figure 2 - Licks during conditioning sessions"
   ]
  },
  {
   "cell_type": "code",
   "execution_count": 36,
   "metadata": {},
   "outputs": [
    {
     "data": {
      "text/plain": [
       "<matplotlib.text.Text at 0xe7bf048>"
      ]
     },
     "execution_count": 36,
     "metadata": {},
     "output_type": "execute_result"
    },
    {
     "data": {
      "image/png": "[encoded data removed]",
      "text/plain": [
       "<matplotlib.figure.Figure at 0xe73a320>"
      ]
     },
     "metadata": {},
     "output_type": "display_data"
    }
   ],
   "source": [
    "fig = plt.figure(figsize=(3.2, 2.4))\n",
    "ax = plt.subplot(1,1,1)\n",
    "nplp2Dfig(df2, 'total', ax=ax)\n",
    "plt.yticks([0, 5000, 10000, 15000], ('0', '5', '10', '15'))\n",
    "ax.set_ylabel('Licks (x1000)')\n",
    "#plt.savefig('ADD FILEPATH/03_condlicks.eps')\n",
    "plt.title('Consumption during conditioning')"
   ]
  },
  {
   "cell_type": "markdown",
   "metadata": {},
   "source": [
    "### Stats on conditioning days"
   ]
  },
  {
   "cell_type": "code",
   "execution_count": 37,
   "metadata": {},
   "outputs": [
    {
     "name": "stdout",
     "output_type": "stream",
     "text": [
      "Licks during conditioning\n",
      "\n",
      "\r\n",
      "Error: ratid\n",
      "\r\n",
      "          Df    Sum Sq  Mean Sq F value Pr(>F)  \n",
      "\r\n",
      "diet       1  50770874 50770874   3.609 0.0707 .\n",
      "\r\n",
      "Residuals 22 309529879 14069540                 \n",
      "\r\n",
      "---\n",
      "\r\n",
      "Signif. codes:  0 '***' 0.001 '**' 0.01 '*' 0.05 '.' 0.1 ' ' 1\n",
      "\r\n",
      "\n",
      "\r\n",
      "Error: ratid:sol\n",
      "\r\n",
      "          Df   Sum Sq Mean Sq F value Pr(>F)\n",
      "\r\n",
      "sol        1  4703764 4703764   1.203  0.285\n",
      "\r\n",
      "sol:diet   1  8159252 8159252   2.087  0.163\n",
      "\r\n",
      "Residuals 22 86000210 3909100               \n",
      "\n"
     ]
    }
   ],
   "source": [
    "if statson == True:\n",
    "    r_df = df2[['ratid', 'sol', 'diet', 'total']]\n",
    "    ro.globalenv['r_df'] = r_df\n",
    "    ro.r('condlicks = aov(formula = total ~ sol * diet + Error(ratid / sol), data = r_df)')\n",
    "    print('Licks during conditioning')\n",
    "    print(ro.r('summary(condlicks)'))"
   ]
  },
  {
   "cell_type": "markdown",
   "metadata": {},
   "source": [
    "## Assemble data for preference day"
   ]
  },
  {
   "cell_type": "code",
   "execution_count": 38,
   "metadata": {
    "collapsed": true
   },
   "outputs": [],
   "source": [
    "dfc = pd.DataFrame([(rats[x].preference1_cas) for x in rats])\n",
    "dfm = pd.DataFrame([(rats[x].preference1_malt) for x in rats])\n",
    "\n",
    "for df in [dfc, dfm]:\n",
    "    df.insert(0,'ratid', [x for x in rats])\n",
    "    df.insert(1,'diet', [rats[x].diet for x in rats])\n",
    "    \n",
    "df = pd.concat([dfc, dfm])\n",
    "\n",
    "df.insert(2,'sol',['c']*24 + ['m']*24)\n",
    "\n",
    "df2 = df[['ratid', 'diet']][:24]\n",
    "pref = df.total[:24]/(df.total[:24]+df.total[24:])\n",
    "df2.insert(2,'pref', pref)"
   ]
  },
  {
   "cell_type": "markdown",
   "metadata": {},
   "source": [
    "### Figure 3A - histogram of licks over time"
   ]
  },
  {
   "cell_type": "code",
   "execution_count": 39,
   "metadata": {},
   "outputs": [
    {
     "data": {
      "text/plain": [
       "<matplotlib.text.Text at 0xe88b278>"
      ]
     },
     "execution_count": 39,
     "metadata": {},
     "output_type": "execute_result"
    },
    {
     "data": {
      "image/png": "[encoded data removed]",
      "text/plain": [
       "<matplotlib.figure.Figure at 0xe7a5d30>"
      ]
     },
     "metadata": {},
     "output_type": "display_data"
    }
   ],
   "source": [
    "mpl.rcParams['figure.subplot.wspace'] = 0.1\n",
    "mpl.rcParams['figure.subplot.left'] = 0.15\n",
    "fig, ax = plt.subplots(nrows=1, ncols=2, sharex=True, sharey=True, figsize=(3.2, 2.4))\n",
    "\n",
    "prefhistFig(ax[0], ax[1], df, 'hist')\n",
    "fig.text(0.55, 0.04, 'Time (min)', ha='center')\n",
    "ax[0].set_ylabel('Licks per 2 min')"
   ]
  },
  {
   "cell_type": "markdown",
   "metadata": {},
   "source": [
    "### Figure 3B - casein licks vs maltodextrin licks"
   ]
  },
  {
   "cell_type": "code",
   "execution_count": 40,
   "metadata": {},
   "outputs": [
    {
     "data": {
      "text/plain": [
       "([<matplotlib.axis.YTick at 0xea28898>,\n",
       "  <matplotlib.axis.YTick at 0xea0ab70>,\n",
       "  <matplotlib.axis.YTick at 0xea21710>,\n",
       "  <matplotlib.axis.YTick at 0xeb1ea58>],\n",
       " <a list of 4 Text yticklabel objects>)"
      ]
     },
     "execution_count": 40,
     "metadata": {},
     "output_type": "execute_result"
    },
    {
     "data": {
      "image/png": "[encoded data removed]",
      "text/plain": [
       "<matplotlib.figure.Figure at 0xa7aabe0>"
      ]
     },
     "metadata": {},
     "output_type": "display_data"
    }
   ],
   "source": [
    "mpl.rcParams['figure.subplot.left'] = 0.25\n",
    "fig = plt.figure(figsize=(2.4, 2.4))\n",
    "ax = plt.subplot(1,1,1)                \n",
    "casVmaltFig(ax, df)\n",
    "ax.set_xlabel('Licks for casein')\n",
    "ax.set_ylabel('Licks for maltodextrin')\n",
    "plt.yticks([0, 2000, 4000, 6000])"
   ]
  },
  {
   "cell_type": "markdown",
   "metadata": {},
   "source": [
    "### Figure 3C - total casein licks vs maltodextrin licks"
   ]
  },
  {
   "cell_type": "code",
   "execution_count": 41,
   "metadata": {},
   "outputs": [
    {
     "data": {
      "text/plain": [
       "<matplotlib.text.Text at 0xe73add8>"
      ]
     },
     "execution_count": 41,
     "metadata": {},
     "output_type": "execute_result"
    },
    {
     "data": {
      "image/png": "[encoded data removed]",
      "text/plain": [
       "<matplotlib.figure.Figure at 0xe792b38>"
      ]
     },
     "metadata": {},
     "output_type": "display_data"
    }
   ],
   "source": [
    "mpl.rcParams['figure.subplot.left'] = 0.15\n",
    "fig = plt.figure(figsize=(3.2, 2.4))\n",
    "ax = plt.subplot(1,1,1) \n",
    "nplp2Dfig(df, 'total', ax)\n",
    "ax.set_ylabel('Licks (x1000)')\n",
    "plt.yticks([0, 2000, 4000, 6000], ('0', '2', '4', '6'))\n",
    "#plt.savefig('ADD FILE PATHER/06_preftotal.eps')\n",
    "plt.title('Casein vs. maltodextrin')"
   ]
  },
  {
   "cell_type": "markdown",
   "metadata": {},
   "source": [
    "### Stats on preference day (licks)"
   ]
  },
  {
   "cell_type": "code",
   "execution_count": 42,
   "metadata": {},
   "outputs": [
    {
     "name": "stdout",
     "output_type": "stream",
     "text": [
      "Total licks\n",
      "\n",
      "\r\n",
      "Error: ratid\n",
      "\r\n",
      "          Df   Sum Sq Mean Sq F value Pr(>F)\n",
      "\r\n",
      "diet       1  2060894 2060894   1.918   0.18\n",
      "\r\n",
      "Residuals 22 23634952 1074316               \n",
      "\r\n",
      "\n",
      "\r\n",
      "Error: ratid:sol\n",
      "\r\n",
      "          Df   Sum Sq  Mean Sq F value  Pr(>F)   \n",
      "\r\n",
      "sol        1 20145025 20145025   7.466 0.01216 * \n",
      "\r\n",
      "sol:diet   1 31509002 31509002  11.677 0.00247 **\n",
      "\r\n",
      "Residuals 22 59363251  2698330                   \n",
      "\r\n",
      "---\n",
      "\r\n",
      "Signif. codes:  0 '***' 0.001 '**' 0.01 '*' 0.05 '.' 0.1 ' ' 1\n",
      "\n"
     ]
    }
   ],
   "source": [
    "if statson == True:\n",
    "    r_df = df[['ratid', 'sol', 'diet', 'total', 'bMean', 'bNum']]\n",
    "    ro.globalenv['r_df'] = r_df\n",
    "\n",
    "    ro.r('totallicks = aov(formula = total ~ sol * diet + Error(ratid / sol), data = r_df)')\n",
    "    ro.r('burstMean = aov(formula = bMean ~ sol * diet + Error(ratid / sol), data = r_df)')\n",
    "    ro.r('burstNum = aov(formula = bNum ~ sol * diet + Error(ratid / sol), data = r_df)')\n",
    "\n",
    "    print('Total licks')\n",
    "    print(ro.r('summary(totallicks)'))"
   ]
  },
  {
   "cell_type": "code",
   "execution_count": 43,
   "metadata": {},
   "outputs": [
    {
     "name": "stdout",
     "output_type": "stream",
     "text": [
      "Normal protein rats - casein vs. maltodextrin\n",
      "\n",
      "\r\n",
      "\tPaired t-test\n",
      "\r\n",
      "\n",
      "\r\n",
      "data:  r_df$total[r_df$diet == \"np\" & r_df$sol == \"c\"] and r_df$total[r_df$diet == \"np\" & r_df$sol == \"m\"]\n",
      "\r\n",
      "t = -0.45799, df = 11, p-value = 0.6559\n",
      "\r\n",
      "alternative hypothesis: true difference in means is not equal to 0\n",
      "\r\n",
      "95 percent confidence interval:\n",
      "\r\n",
      " -1885.411  1235.911\n",
      "\r\n",
      "sample estimates:\n",
      "\r\n",
      "mean of the differences \n",
      "\r\n",
      "                -324.75 \n",
      "\r\n",
      "\n",
      "\n"
     ]
    }
   ],
   "source": [
    "if statson == True:\n",
    "    ro.r('np_casvmalt = t.test(r_df$total[r_df$diet==\"np\" & r_df$sol==\"c\"], r_df$total[r_df$diet==\"np\" & r_df$sol==\"m\"], paired=TRUE)')\n",
    "    print('Normal protein rats - casein vs. maltodextrin')\n",
    "    print(ro.r('np_casvmalt'))"
   ]
  },
  {
   "cell_type": "code",
   "execution_count": 44,
   "metadata": {},
   "outputs": [
    {
     "name": "stdout",
     "output_type": "stream",
     "text": [
      "LOW PROTEIN rats - casein vs. maltodextrin\n",
      "\n",
      "\r\n",
      "\tPaired t-test\n",
      "\r\n",
      "\n",
      "\r\n",
      "data:  r_df$total[r_df$diet == \"lp\" & r_df$sol == \"c\"] and r_df$total[r_df$diet == \"lp\" & r_df$sol == \"m\"]\n",
      "\r\n",
      "t = 4.6301, df = 11, p-value = 0.0007283\n",
      "\r\n",
      "alternative hypothesis: true difference in means is not equal to 0\n",
      "\r\n",
      "95 percent confidence interval:\n",
      "\r\n",
      " 1529.886 4302.281\n",
      "\r\n",
      "sample estimates:\n",
      "\r\n",
      "mean of the differences \n",
      "\r\n",
      "               2916.083 \n",
      "\r\n",
      "\n",
      "\n"
     ]
    }
   ],
   "source": [
    "if statson == True:\n",
    "    ro.r('lp_casvmalt = t.test(r_df$total[r_df$diet==\"lp\" & r_df$sol==\"c\"], r_df$total[r_df$diet==\"lp\" & r_df$sol==\"m\"], paired=TRUE)')\n",
    "    print('LOW PROTEIN rats - casein vs. maltodextrin')\n",
    "    print(ro.r('lp_casvmalt'))"
   ]
  },
  {
   "cell_type": "markdown",
   "metadata": {},
   "source": [
    "## Analysis of Palatability"
   ]
  },
  {
   "cell_type": "markdown",
   "metadata": {},
   "source": [
    "### Figure 4A - licks per cluster"
   ]
  },
  {
   "cell_type": "code",
   "execution_count": 45,
   "metadata": {},
   "outputs": [
    {
     "data": {
      "text/plain": [
       "<matplotlib.text.Text at 0xe67e780>"
      ]
     },
     "execution_count": 45,
     "metadata": {},
     "output_type": "execute_result"
    },
    {
     "data": {
      "image/png": "[encoded data removed]",
      "text/plain": [
       "<matplotlib.figure.Figure at 0xe9ddcc0>"
      ]
     },
     "metadata": {},
     "output_type": "display_data"
    }
   ],
   "source": [
    "fig = plt.figure(figsize=(3.2, 2.4))\n",
    "ax = plt.subplot(1,1,1)\n",
    "nplp2Dfig(df, 'bMean', ax)\n",
    "ax.set_ylabel('Average licks per cluster')\n",
    "ax.set_yticks([0, 50, 100, 150])\n",
    "#plt.savefig('ADD FILE PATHER/07_prefburstmean.eps')\n",
    "plt.title('Licks per cluster')"
   ]
  },
  {
   "cell_type": "markdown",
   "metadata": {},
   "source": [
    "### Figure 4B - number of clusters"
   ]
  },
  {
   "cell_type": "code",
   "execution_count": 46,
   "metadata": {},
   "outputs": [
    {
     "data": {
      "text/plain": [
       "<matplotlib.text.Text at 0x12c2d668>"
      ]
     },
     "execution_count": 46,
     "metadata": {},
     "output_type": "execute_result"
    },
    {
     "data": {
      "image/png": "[encoded data removed]",
      "text/plain": [
       "<matplotlib.figure.Figure at 0xe71c208>"
      ]
     },
     "metadata": {},
     "output_type": "display_data"
    }
   ],
   "source": [
    "fig = plt.figure(figsize=(3.2, 2.4))\n",
    "ax = plt.subplot(1,1,1)\n",
    "nplp2Dfig(df, 'bNum', ax)\n",
    "ax.set_ylabel('Number of clusters')\n",
    "ax.set_yticks([0, 50, 100, 150, 200])\n",
    "#plt.savefig('ADD FILE PATHER/08_prefburstnum.eps',\n",
    "#            transparent=True)\n",
    "plt.title('Number of clusters')"
   ]
  },
  {
   "cell_type": "markdown",
   "metadata": {},
   "source": [
    "### Stats on preference day (palatability)"
   ]
  },
  {
   "cell_type": "code",
   "execution_count": 47,
   "metadata": {},
   "outputs": [
    {
     "name": "stdout",
     "output_type": "stream",
     "text": [
      "Licks per burst\n",
      "\n",
      "\r\n",
      "Error: ratid\n",
      "\r\n",
      "          Df Sum Sq Mean Sq F value Pr(>F)  \n",
      "\r\n",
      "diet       1   1341  1341.0   3.078 0.0933 .\n",
      "\r\n",
      "Residuals 22   9585   435.7                 \n",
      "\r\n",
      "---\n",
      "\r\n",
      "Signif. codes:  0 '***' 0.001 '**' 0.01 '*' 0.05 '.' 0.1 ' ' 1\n",
      "\r\n",
      "\n",
      "\r\n",
      "Error: ratid:sol\n",
      "\r\n",
      "          Df Sum Sq Mean Sq F value Pr(>F)  \n",
      "\r\n",
      "sol        1   1875    1875   3.344 0.0810 .\n",
      "\r\n",
      "sol:diet   1   3979    3979   7.099 0.0142 *\n",
      "\r\n",
      "Residuals 22  12332     561                 \n",
      "\r\n",
      "---\n",
      "\r\n",
      "Signif. codes:  0 '***' 0.001 '**' 0.01 '*' 0.05 '.' 0.1 ' ' 1\n",
      "\n",
      "Normal protein rats (licks per burst) - casein vs. maltodextrin\n",
      "\n",
      "\r\n",
      "\tPaired t-test\n",
      "\r\n",
      "\n",
      "\r\n",
      "data:  r_df$bMean[r_df$diet == \"np\" & r_df$sol == \"c\"] and r_df$bMean[r_df$diet == \"np\" & r_df$sol == \"m\"]\n",
      "\r\n",
      "t = -0.76119, df = 11, p-value = 0.4626\n",
      "\r\n",
      "alternative hypothesis: true difference in means is not equal to 0\n",
      "\r\n",
      "95 percent confidence interval:\n",
      "\r\n",
      " -22.22253  10.80154\n",
      "\r\n",
      "sample estimates:\n",
      "\r\n",
      "mean of the differences \n",
      "\r\n",
      "              -5.710497 \n",
      "\r\n",
      "\n",
      "\n",
      "LOW PROTEIN rats (licks per burst) - casein vs. maltodextrin\n",
      "\n",
      "\r\n",
      "\tPaired t-test\n",
      "\r\n",
      "\n",
      "\r\n",
      "data:  r_df$bMean[r_df$diet == \"lp\" & r_df$sol == \"c\"] and r_df$bMean[r_df$diet == \"lp\" & r_df$sol == \"m\"]\n",
      "\r\n",
      "t = 2.6875, df = 11, p-value = 0.02112\n",
      "\r\n",
      "alternative hypothesis: true difference in means is not equal to 0\n",
      "\r\n",
      "95 percent confidence interval:\n",
      "\r\n",
      "  5.558946 55.857937\n",
      "\r\n",
      "sample estimates:\n",
      "\r\n",
      "mean of the differences \n",
      "\r\n",
      "               30.70844 \n",
      "\r\n",
      "\n",
      "\n"
     ]
    }
   ],
   "source": [
    "if statson == True:\n",
    "    print('Licks per burst')\n",
    "    print(ro.r('summary(burstMean)'))\n",
    "\n",
    "    ro.r('np_casvmalt = t.test(r_df$bMean[r_df$diet==\"np\" & r_df$sol==\"c\"], r_df$bMean[r_df$diet==\"np\" & r_df$sol==\"m\"], paired=TRUE)')\n",
    "    print('Normal protein rats (licks per burst) - casein vs. maltodextrin')\n",
    "    print(ro.r('np_casvmalt'))\n",
    "\n",
    "    ro.r('lp_casvmalt = t.test(r_df$bMean[r_df$diet==\"lp\" & r_df$sol==\"c\"], r_df$bMean[r_df$diet==\"lp\" & r_df$sol==\"m\"], paired=TRUE)')\n",
    "    print('LOW PROTEIN rats (licks per burst) - casein vs. maltodextrin')\n",
    "    print(ro.r('lp_casvmalt'))"
   ]
  },
  {
   "cell_type": "markdown",
   "metadata": {},
   "source": [
    "### Stats on palatability (number of clusters)"
   ]
  },
  {
   "cell_type": "code",
   "execution_count": 48,
   "metadata": {},
   "outputs": [
    {
     "name": "stdout",
     "output_type": "stream",
     "text": [
      "Number of clusters\n",
      "\n",
      "\r\n",
      "Error: ratid\n",
      "\r\n",
      "          Df Sum Sq Mean Sq F value Pr(>F)\n",
      "\r\n",
      "diet       1    331   330.8   0.125  0.727\n",
      "\r\n",
      "Residuals 22  58078  2639.9               \n",
      "\r\n",
      "\n",
      "\r\n",
      "Error: ratid:sol\n",
      "\r\n",
      "          Df Sum Sq Mean Sq F value Pr(>F)  \n",
      "\r\n",
      "sol        1  12288   12288   5.677 0.0263 *\n",
      "\r\n",
      "sol:diet   1  15408   15408   7.119 0.0140 *\n",
      "\r\n",
      "Residuals 22  47617    2164                 \n",
      "\r\n",
      "---\n",
      "\r\n",
      "Signif. codes:  0 '***' 0.001 '**' 0.01 '*' 0.05 '.' 0.1 ' ' 1\n",
      "\n",
      "Normal protein rats (number of clusters) - casein vs. maltodextrin\n",
      "\n",
      "\r\n",
      "\tPaired t-test\n",
      "\r\n",
      "\n",
      "\r\n",
      "data:  r_df$bNum[r_df$diet == \"np\" & r_df$sol == \"c\"] and r_df$bNum[r_df$diet == \"np\" & r_df$sol == \"m\"]\n",
      "\r\n",
      "t = -0.20307, df = 11, p-value = 0.8428\n",
      "\r\n",
      "alternative hypothesis: true difference in means is not equal to 0\n",
      "\r\n",
      "95 percent confidence interval:\n",
      "\r\n",
      " -45.38073  37.71406\n",
      "\r\n",
      "sample estimates:\n",
      "\r\n",
      "mean of the differences \n",
      "\r\n",
      "              -3.833333 \n",
      "\r\n",
      "\n",
      "\n",
      "LOW PROTEIN rats (number of clusters) - casein vs. maltodextrin\n",
      "\n",
      "\r\n",
      "\tPaired t-test\n",
      "\r\n",
      "\n",
      "\r\n",
      "data:  r_df$bNum[r_df$diet == \"lp\" & r_df$sol == \"c\"] and r_df$bNum[r_df$diet == \"lp\" & r_df$sol == \"m\"]\n",
      "\r\n",
      "t = 3.5499, df = 11, p-value = 0.004553\n",
      "\r\n",
      "alternative hypothesis: true difference in means is not equal to 0\n",
      "\r\n",
      "95 percent confidence interval:\n",
      "\r\n",
      "  25.77586 109.89080\n",
      "\r\n",
      "sample estimates:\n",
      "\r\n",
      "mean of the differences \n",
      "\r\n",
      "               67.83333 \n",
      "\r\n",
      "\n",
      "\n"
     ]
    }
   ],
   "source": [
    "if statson == True:\n",
    "    print('Number of clusters')\n",
    "    print(ro.r('summary(burstNum)'))\n",
    "\n",
    "    ro.r('np_casvmalt = t.test(r_df$bNum[r_df$diet==\"np\" & r_df$sol==\"c\"], r_df$bNum[r_df$diet==\"np\" & r_df$sol==\"m\"], paired=TRUE)')\n",
    "    print('Normal protein rats (number of clusters) - casein vs. maltodextrin')\n",
    "    print(ro.r('np_casvmalt'))\n",
    "\n",
    "    ro.r('lp_casvmalt = t.test(r_df$bNum[r_df$diet==\"lp\" & r_df$sol==\"c\"], r_df$bNum[r_df$diet==\"lp\" & r_df$sol==\"m\"], paired=TRUE)')\n",
    "    print('LOW PROTEIN rats (number of clusters) - casein vs. maltodextrin')\n",
    "    print(ro.r('lp_casvmalt'))"
   ]
  },
  {
   "cell_type": "markdown",
   "metadata": {},
   "source": [
    "### Figure 3D - casein preference"
   ]
  },
  {
   "cell_type": "code",
   "execution_count": 49,
   "metadata": {},
   "outputs": [
    {
     "data": {
      "text/plain": [
       "<matplotlib.text.Text at 0x12d332b0>"
      ]
     },
     "execution_count": 49,
     "metadata": {},
     "output_type": "execute_result"
    },
    {
     "data": {
      "image/png": "[encoded data removed]",
      "text/plain": [
       "<matplotlib.figure.Figure at 0xeb328d0>"
      ]
     },
     "metadata": {},
     "output_type": "display_data"
    }
   ],
   "source": [
    "dietmsk = df2.diet == 'np'\n",
    "a = data2obj1D([df2['pref'][dietmsk], df2['pref'][~dietmsk]])\n",
    "\n",
    "mpl.rcParams['figure.subplot.left'] = 0.25\n",
    "fig = plt.figure(figsize=(1.8, 2.4))\n",
    "ax = plt.subplot(1,1,1)\n",
    "barscatter(a, barfacecoloroption = 'between', barfacecolor = ['xkcd:silver', 'xkcd:kelly green'],\n",
    "                     scatteredgecolor = ['black'],\n",
    "                     scatterlinecolor = 'black',\n",
    "                     grouplabel=['NR', 'PR'],\n",
    "                     barwidth = 0.8,\n",
    "                     scattersize = 40,\n",
    "                     ylabel = 'Casein preference',\n",
    "                     ax=ax)\n",
    "ax.set_yticks([0, 0.5, 1.0])\n",
    "ax.set_xlim([0.25,2.75])\n",
    "ax.set_ylim([0, 1.1])\n",
    "ax.set_ylabel('Casein preference')\n",
    "#plt.savefig('ADD FILE PATHER/09_caseinpref.eps',\n",
    "#            transparent=True)\n",
    "plt.title('Casein preference')"
   ]
  },
  {
   "cell_type": "markdown",
   "metadata": {},
   "source": [
    "### Stats on casein preference"
   ]
  },
  {
   "cell_type": "code",
   "execution_count": 50,
   "metadata": {},
   "outputs": [
    {
     "name": "stdout",
     "output_type": "stream",
     "text": [
      "\n",
      "\r\n",
      "\tWelch Two Sample t-test\n",
      "\r\n",
      "\n",
      "\r\n",
      "data:  nppref[\"pref\"] and lppref[\"pref\"]\n",
      "\r\n",
      "t = -2.6596, df = 21.146, p-value = 0.01461\n",
      "\r\n",
      "alternative hypothesis: true difference in means is not equal to 0\n",
      "\r\n",
      "95 percent confidence interval:\n",
      "\r\n",
      " -0.57595937 -0.07060946\n",
      "\r\n",
      "sample estimates:\n",
      "\r\n",
      "mean of x mean of y \n",
      "\r\n",
      "0.4899109 0.8131953 \n",
      "\r\n",
      "\n",
      "\n"
     ]
    }
   ],
   "source": [
    "if statson == True:\n",
    "    ro.globalenv['nppref'] = df2[df2['diet'] == 'np']\n",
    "    ro.globalenv['lppref'] = df2[df2['diet'] != 'np']\n",
    "\n",
    "    ro.r('proteinPref = t.test(nppref[\\'pref\\'], lppref[\\'pref\\'], paired=FALSE)')\n",
    "    print(ro.r('proteinPref'))"
   ]
  },
  {
   "cell_type": "code",
   "execution_count": null,
   "metadata": {
    "collapsed": true
   },
   "outputs": [],
   "source": []
  }
 ],
 "metadata": {
  "kernelspec": {
   "display_name": "Python 3",
   "language": "python",
   "name": "python3"
  },
  "language_info": {
   "codemirror_mode": {
    "name": "ipython",
    "version": 3
   },
   "file_extension": ".py",
   "mimetype": "text/x-python",
   "name": "python",
   "nbconvert_exporter": "python",
   "pygments_lexer": "ipython3",
   "version": "3.6.0"
  }
 },
 "nbformat": 4,
 "nbformat_minor": 2
}
